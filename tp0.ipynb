{
 "cells": [
  {
   "cell_type": "code",
   "execution_count": null,
   "metadata": {
    "collapsed": true
   },
   "outputs": [],
   "source": [
    "from tkinter import *\n",
    "\n",
    "\n",
    "WIDTH=900\n",
    "HEIGHT=700\n",
    "\n",
    "\n",
    "def dot(cnv, C, R=6, color='white'):\n",
    "    xC, yC=C\n",
    "    A=(xC-R, yC-R)\n",
    "    B=(xC+R, yC+R)\n",
    "    return cnv.create_oval(A,B, fill=color, outline=color)\n",
    "\n",
    "\n",
    "root=Tk()\n",
    "cnv=Canvas(root, width=WIDTH, height=HEIGHT, background='blue')\n",
    "cnv.pack()\n",
    "\n",
    "\n",
    "C=(50,50)\n",
    "\n",
    "for j in range (0,7):\n",
    "    n=50+(j-1)*110\n",
    "    for i in range (0,8):\n",
    "        dot (cnv, C, R=50 , color=\"white\")\n",
    "        C = (50+i*110, n)\n",
    "    C=(50,n)\n",
    "\n",
    "\n",
    "root.mainloop()"
   ]
  },
  {
   "cell_type": "code",
   "execution_count": null,
   "metadata": {
    "collapsed": true
   },
   "outputs": [],
   "source": [
    "from random import sample\n",
    "from tkinter import Tk, Canvas\n",
    "\n",
    "P=N/(n*n)"
   ]
  }
 ],
 "metadata": {
  "kernelspec": {
   "display_name": "Python 3",
   "language": "python",
   "name": "python3"
  },
  "language_info": {
   "codemirror_mode": {
    "name": "ipython",
    "version": 3
   },
   "file_extension": ".py",
   "mimetype": "text/x-python",
   "name": "python",
   "nbconvert_exporter": "python",
   "pygments_lexer": "ipython3",
   "version": "3.5.3"
  }
 },
 "nbformat": 4,
 "nbformat_minor": 2
}
