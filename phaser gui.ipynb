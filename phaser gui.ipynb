{
 "cells": [
  {
   "cell_type": "code",
   "execution_count": 23,
   "metadata": {
    "collapsed": false
   },
   "outputs": [],
   "source": [
    "from tkinter import Tk, Canvas\n",
    "from random import randrange\n",
    "from turtle import Vec2D as vect\n",
    "\n",
    "MAX_X=MAX_Y=600\n",
    "\n",
    "root=Tk()\n",
    "cnv=Canvas(root, width=MAX_X, height=MAX_Y, bg=\"gray\")\n",
    "cnv.pack()\n",
    "\n",
    "# La longueur de chaque flèche\n",
    "L=60\n",
    "\n",
    "# les N extrémités des flèches\n",
    "N=6\n",
    "points=[(randrange(MAX_X),randrange(MAX_Y)) for _ in range(N)]\n",
    "\n",
    "\n",
    "\n",
    "def origin(B, C, L):\n",
    "    \"\"\"\n",
    "    Calcule l'origine A de la flèche connaissant :\n",
    "    - l'extrémité B de la flèche\n",
    "    - un point C visé par la flèche\n",
    "    - la longueur L de la flèche\n",
    "    \"\"\"\n",
    "    v=vect(*C)-vect(*B)\n",
    "    k=-L/abs(v)\n",
    "    A=k*v+vect(*B)\n",
    "    return A\n",
    "    \n",
    "def shot(C):\n",
    "    # C = poit de convergence des flèches\n",
    "    # Dessine les flèches et les pointillés\n",
    "    # depuis chaque point de la liste points\n",
    "    for B in points:\n",
    "        A=origin(B, C, L)\n",
    "        # Créatopn de la flèche\n",
    "        cnv.create_line(A,B, width=7, fill=\"green yellow\", arrow='last', arrowshape=(18,30, 8))\n",
    "        # Création des pointillés\n",
    "        cnv.create_line(B,C, fill=\"green yellow\", dash=3)    \n",
    "    \n",
    "        \n",
    "\n",
    "        \n",
    "def g(event):\n",
    "    cnv.delete('all')\n",
    "    x=event.x\n",
    "    y=event.y\n",
    "    shot(( x, y))\n",
    "\n",
    "# Dessin statique : la cible des flèches est un point aléatoire\n",
    "#shot((randrange(MAX_X),randrange(MAX_X)))\n",
    "centres=[(randrange(L, WIDTH-L), randrange(L, HEIGHT-L))\n",
    "        for _ in range(4)]\n",
    "cnv.bind(\"<Motion>\",g)\n",
    "\n",
    "\n",
    "root.mainloop() "
   ]
  },
  {
   "cell_type": "code",
   "execution_count": null,
   "metadata": {
    "collapsed": true
   },
   "outputs": [],
   "source": []
  }
 ],
 "metadata": {
  "kernelspec": {
   "display_name": "Python 3",
   "language": "python",
   "name": "python3"
  },
  "language_info": {
   "codemirror_mode": {
    "name": "ipython",
    "version": 3
   },
   "file_extension": ".py",
   "mimetype": "text/x-python",
   "name": "python",
   "nbconvert_exporter": "python",
   "pygments_lexer": "ipython3",
   "version": "3.5.3"
  }
 },
 "nbformat": 4,
 "nbformat_minor": 2
}
