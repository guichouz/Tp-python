{
 "cells": [
  {
   "cell_type": "markdown",
   "metadata": {},
   "source": [
    "exercice 1\n",
    "------------"
   ]
  },
  {
   "cell_type": "code",
   "execution_count": 58,
   "metadata": {
    "collapsed": false
   },
   "outputs": [
    {
     "name": "stderr",
     "output_type": "stream",
     "text": [
      "Exception in Tkinter callback\n",
      "Traceback (most recent call last):\n",
      "  File \"/usr/lib/python3.5/tkinter/__init__.py\", line 1562, in __call__\n",
      "    return self.func(*args)\n",
      "  File \"<ipython-input-6-09951557d4e2>\", line 17, in dessiner\n",
      "    color=\"black\" %(randrange(10),randrange(10),randrange(10))\n",
      "TypeError: not all arguments converted during string formatting\n"
     ]
    }
   ],
   "source": [
    "from tkinter import *\n",
    "from random import *\n",
    "\n",
    "CANVAS_SIDE=400\n",
    "NB_SQUARES=4\n",
    "R=CANVAS_SIDE//NB_SQUARES\n",
    "\n",
    "def fill_board(cnv, board):\n",
    "    for i in range(NB_SQUARES):\n",
    "        for j in range(NB_SQUARES):\n",
    "            v=board[i][j]\n",
    "            if not i==j==NB_SQUARES-1:\n",
    "                cnv.create_rectangle(j*R, i*R, (1+j)*R, (1+i)*R, fill=\"lavender\")\n",
    "                cnv.create_text(j*R+R//2, i*R+R//2, text=v,  font=('courier', CANVAS_SIDE//10, 'bold'))\n",
    "\n",
    "                \n",
    "                \n",
    "def draw():\n",
    "    master=Tk()\n",
    "    cnv=Canvas(master, width=CANVAS_SIDE, height=CANVAS_SIDE, bg='ivory')\n",
    "    cnv.pack()\n",
    "\n",
    "    board=[[NB_SQUARES*lin+1+col for col in range(NB_SQUARES)] for lin in range(NB_SQUARES)]\n",
    "    fill_board(cnv, board)\n",
    "    \n",
    "    \n",
    "    \n",
    "    \n",
    "    \n",
    "    btn = Button(master, text=\"aaaah clic\", command=dessiner)\n",
    "    btn.pack()\n",
    "\n",
    "    master.mainloop()\n",
    "    \n",
    "draw()\n"
   ]
  },
  {
   "cell_type": "markdown",
   "metadata": {},
   "source": [
    "Exercice 2\n",
    "------------"
   ]
  },
  {
   "cell_type": "code",
   "execution_count": 80,
   "metadata": {
    "collapsed": false
   },
   "outputs": [
    {
     "name": "stderr",
     "output_type": "stream",
     "text": [
      "Exception in Tkinter callback\n",
      "Traceback (most recent call last):\n",
      "  File \"/usr/lib/python3.5/tkinter/__init__.py\", line 1562, in __call__\n",
      "    return self.func(*args)\n",
      "  File \"<ipython-input-6-09951557d4e2>\", line 17, in dessiner\n",
      "    color=\"black\" %(randrange(10),randrange(10),randrange(10))\n",
      "TypeError: not all arguments converted during string formatting\n",
      "Exception in Tkinter callback\n",
      "Traceback (most recent call last):\n",
      "  File \"/usr/lib/python3.5/tkinter/__init__.py\", line 1562, in __call__\n",
      "    return self.func(*args)\n",
      "  File \"<ipython-input-6-09951557d4e2>\", line 17, in dessiner\n",
      "    color=\"black\" %(randrange(10),randrange(10),randrange(10))\n",
      "TypeError: not all arguments converted during string formatting\n",
      "Exception in Tkinter callback\n",
      "Traceback (most recent call last):\n",
      "  File \"/usr/lib/python3.5/tkinter/__init__.py\", line 1562, in __call__\n",
      "    return self.func(*args)\n",
      "  File \"<ipython-input-6-09951557d4e2>\", line 17, in dessiner\n",
      "    color=\"black\" %(randrange(10),randrange(10),randrange(10))\n",
      "TypeError: not all arguments converted during string formatting\n",
      "Exception in Tkinter callback\n",
      "Traceback (most recent call last):\n",
      "  File \"/usr/lib/python3.5/tkinter/__init__.py\", line 1562, in __call__\n",
      "    return self.func(*args)\n",
      "  File \"<ipython-input-6-09951557d4e2>\", line 17, in dessiner\n",
      "    color=\"black\" %(randrange(10),randrange(10),randrange(10))\n",
      "TypeError: not all arguments converted during string formatting\n",
      "Exception in Tkinter callback\n",
      "Traceback (most recent call last):\n",
      "  File \"/usr/lib/python3.5/tkinter/__init__.py\", line 1562, in __call__\n",
      "    return self.func(*args)\n",
      "  File \"<ipython-input-6-09951557d4e2>\", line 17, in dessiner\n",
      "    color=\"black\" %(randrange(10),randrange(10),randrange(10))\n",
      "TypeError: not all arguments converted during string formatting\n",
      "Exception in Tkinter callback\n",
      "Traceback (most recent call last):\n",
      "  File \"/usr/lib/python3.5/tkinter/__init__.py\", line 1562, in __call__\n",
      "    return self.func(*args)\n",
      "  File \"<ipython-input-6-09951557d4e2>\", line 17, in dessiner\n",
      "    color=\"black\" %(randrange(10),randrange(10),randrange(10))\n",
      "TypeError: not all arguments converted during string formatting\n",
      "Exception in Tkinter callback\n",
      "Traceback (most recent call last):\n",
      "  File \"/usr/lib/python3.5/tkinter/__init__.py\", line 1562, in __call__\n",
      "    return self.func(*args)\n",
      "  File \"<ipython-input-6-09951557d4e2>\", line 17, in dessiner\n",
      "    color=\"black\" %(randrange(10),randrange(10),randrange(10))\n",
      "TypeError: not all arguments converted during string formatting\n",
      "Exception in Tkinter callback\n",
      "Traceback (most recent call last):\n",
      "  File \"/usr/lib/python3.5/tkinter/__init__.py\", line 1562, in __call__\n",
      "    return self.func(*args)\n",
      "  File \"<ipython-input-6-09951557d4e2>\", line 17, in dessiner\n",
      "    color=\"black\" %(randrange(10),randrange(10),randrange(10))\n",
      "TypeError: not all arguments converted during string formatting\n"
     ]
    }
   ],
   "source": [
    "from tkinter import *\n",
    "\n",
    "TOP=20\n",
    "LEFT=80\n",
    "RIGHT=80\n",
    "BASE_H=TOP\n",
    "\n",
    "SEP=8\n",
    "N=6\n",
    "P=7\n",
    "RAD=20\n",
    "DIAM=2*RAD\n",
    "\n",
    "PERIOD=2*SEP+DIAM\n",
    "\n",
    "\n",
    "BOARD_W=P*PERIOD\n",
    "BOARD_H=N*PERIOD\n",
    "\n",
    "WIDTH=LEFT+RIGHT+P*PERIOD\n",
    "HEIGHT=BASE_H+N*PERIOD+TOP\n",
    "\n",
    "def dot(cnv, C, R=6, color='red'):\n",
    "    xC, yC=C\n",
    "    return cnv.create_oval(xC-R,yC-R,xC+R, yC+R, fill=color, outline=color)\n",
    "\n",
    "\n",
    "def fill_board(cnv):\n",
    "    x=x0=LEFT+0.5*PERIOD\n",
    "    y=y0=TOP+0.5*PERIOD\n",
    "\n",
    "    for i in range(P):\n",
    "        for j in range(N):\n",
    "            dot(cnv, (x,y), RAD, color='white')\n",
    "            y+=PERIOD\n",
    "\n",
    "        x+=PERIOD\n",
    "        y=y0\n",
    "\n",
    "    x=x0+3*PERIOD\n",
    "    y=y0+(N-1)*PERIOD\n",
    "\n",
    "def boutons():\n",
    "        for i in range (0,7):\n",
    "            x=10\n",
    "            y=0\n",
    "            btn = Button(text=\"aaaah clic\", command=dessiner)\n",
    "            btn.pack(padx=x , pady=y)\n",
    "            x=x+10\n",
    "            y=y\n",
    "\n",
    "def show():\n",
    "    root = Tk()\n",
    "    cnv = Canvas(root, width=WIDTH-RIGHT, height=HEIGHT-BASE_H, background=\"ivory\")\n",
    "    cnv.pack()\n",
    "\n",
    "    #base=cnv.create_rectangle((0, HEIGHT), (WIDTH, HEIGHT-BASE_H), fill=\"blue\", outline='')\n",
    "    board=cnv.create_rectangle((LEFT, TOP), (WIDTH-RIGHT, HEIGHT-BASE_H), fill=\"blue\", outline='')\n",
    "    fill_board(cnv)\n",
    "    boutons()\n",
    "    \n",
    "    root.mainloop()\n",
    "        \n",
    "\n",
    "show()\n"
   ]
  },
  {
   "cell_type": "code",
   "execution_count": null,
   "metadata": {
    "collapsed": true
   },
   "outputs": [],
   "source": []
  },
  {
   "cell_type": "code",
   "execution_count": null,
   "metadata": {
    "collapsed": true
   },
   "outputs": [],
   "source": []
  }
 ],
 "metadata": {
  "kernelspec": {
   "display_name": "Python 3",
   "language": "python",
   "name": "python3"
  },
  "language_info": {
   "codemirror_mode": {
    "name": "ipython",
    "version": 3
   },
   "file_extension": ".py",
   "mimetype": "text/x-python",
   "name": "python",
   "nbconvert_exporter": "python",
   "pygments_lexer": "ipython3",
   "version": "3.5.3"
  }
 },
 "nbformat": 4,
 "nbformat_minor": 2
}
