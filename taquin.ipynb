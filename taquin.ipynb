{
 "cells": [
  {
   "cell_type": "code",
   "execution_count": 27,
   "metadata": {
    "collapsed": false
   },
   "outputs": [],
   "source": [
    "#model0\n",
    "from random import randrange\n",
    "\n",
    "NB_SQUARES=4\n",
    "\n",
    "def shuffle_board(n=NB_SQUARES, N=100):\n",
    "    # Renvoie un plateau bien mélangé\n",
    "    # N : Nombre de mélanges\n",
    "\n",
    "    def echange(board, empty):\n",
    "        i, j=empty\n",
    "        V=[(a,b) for (a, b) in\n",
    "                [(i, j+1),(i, j-1), (i-1, j), (i+1,j)]\n",
    "                if a in range(n) and b in range(n)]    \n",
    "        ii, jj=V[randrange(len(V))]\n",
    "        board[ii][jj], board[i][j]=board[i][j],board[ii][jj]\n",
    "        return ii, jj\n",
    "    \n",
    "    board=[[n*lin+col+1 for col in range(n)]\n",
    "        for lin in range(n)]\n",
    "    board[n-1][n-1]=0\n",
    "    empty=(n-1,n-1)\n",
    "\n",
    "    for i in range(N):\n",
    "        empty=echange(board, empty)\n",
    "        \n",
    "    return board\n",
    "\n",
    "\n",
    "def print_board(board):\n",
    "    print('\\n'.join([' '.join([\"%2s\"%v for v in L ]) for L in board]))\n",
    "    \n",
    "    \n",
    "def voisin(n,i,j):\n",
    "    N=[]\n",
    "    for (a,b) in [(i,j+1),(i,j-1),(i-1,j),(i+1,j)]:\n",
    "        if a in range(n)and b in range (n):\n",
    "            N.append((a,b))\n",
    "            \n",
    "        return N\n",
    "    \n",
    "def caseVide(board, i, j):\n",
    "    n=len(board)\n",
    "    for line, col in voisins(n, i,j):\n",
    "        if board[line][col]==0:\n",
    "            return line,col\n",
    "    return None\n",
    "\n",
    "    \n",
    "def swap(board, i, j):\n",
    "    c=caseVide(board, i, j)\n",
    "    if c is None:\n",
    "        return\n",
    "    line, col=c\n",
    "    board[line][col],board[i][j]=board[i][j],board[line][col]\n",
    "\n",
    "            \n",
    "        \n",
    "    \n",
    "\n",
    "            \n",
    "            \n",
    "\n",
    "#print (print_board(board))"
   ]
  },
  {
   "cell_type": "code",
   "execution_count": 23,
   "metadata": {
    "collapsed": false
   },
   "outputs": [
    {
     "name": "stdout",
     "output_type": "stream",
     "text": [
      " 0  2\n",
      " 1  3\n",
      "None\n"
     ]
    }
   ],
   "source": [
    "from tkinter import *\n",
    "\n",
    "print(print_board(board))\n"
   ]
  },
  {
   "cell_type": "code",
   "execution_count": 11,
   "metadata": {
    "collapsed": false
   },
   "outputs": [],
   "source": [
    "#vue0\n",
    "from tkinter import *\n",
    "\n",
    "CANVAS_SIDE=400\n",
    "NB_SQUARES=2\n",
    "R=CANVAS_SIDE//NB_SQUARES\n",
    "\n",
    "def fill_board(cnv, board, n=NB_SQUARES):\n",
    "    cnv.delete(ALL)    \n",
    "    for i in range(n):\n",
    "        for j in range(n):\n",
    "            v=board[i][j]\n",
    "            if v:\n",
    "                cnv.create_rectangle(j*R, i*R, (1+j)*R, (1+i)*R, fill=\"lavender\")\n",
    "                cnv.create_text(j*R+R//2, i*R+R//2, text=v,  font=('courier', CANVAS_SIDE//10, 'bold'))\n",
    "\n",
    "def melanger():\n",
    "    global board\n",
    "    # ok : un plateau terminé\n",
    "    ok=[[n*lin+col+1 for col in range(n)]\n",
    "        for lin in range(n)]\n",
    "    ok[n-1][n-1]=0\n",
    "    \n",
    "    \n",
    "    while True:\n",
    "        board=shuffle_board(n)\n",
    "        # être certain que le plateau a bien été mélangé\n",
    "        if board!=ok:\n",
    "            break\n",
    "        \n",
    "    fill_board(cnv, board)\n",
    "\n",
    "master=Tk()\n",
    "cnv=Canvas(master, width=CANVAS_SIDE, height=CANVAS_SIDE, bg='ivory')\n",
    "cnv.pack(side='left')\n",
    "\n",
    "btn=Button(master, text=\"Mélanger\", command=melanger)\n",
    "btn.pack()\n",
    "\n",
    "board=None\n",
    "n=NB_SQUARES\n",
    "\n",
    "melanger()\n",
    "\n",
    "master.mainloop() \n",
    "\n"
   ]
  }
 ],
 "metadata": {
  "kernelspec": {
   "display_name": "Python 3",
   "language": "python",
   "name": "python3"
  },
  "language_info": {
   "codemirror_mode": {
    "name": "ipython",
    "version": 3
   },
   "file_extension": ".py",
   "mimetype": "text/x-python",
   "name": "python",
   "nbconvert_exporter": "python",
   "pygments_lexer": "ipython3",
   "version": "3.5.3"
  }
 },
 "nbformat": 4,
 "nbformat_minor": 2
}
