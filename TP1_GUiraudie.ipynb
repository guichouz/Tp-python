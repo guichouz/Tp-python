{
 "cells": [
  {
   "cell_type": "markdown",
   "metadata": {},
   "source": [
    "ex 1\n",
    "--------"
   ]
  },
  {
   "cell_type": "code",
   "execution_count": 3,
   "metadata": {
    "collapsed": false
   },
   "outputs": [],
   "source": [
    "from tkinter import *\n",
    "\n",
    "\n",
    "WIDTH=900\n",
    "HEIGHT=700\n",
    "\n",
    "\n",
    "def dot(cnv, C, R=6, color='white'):\n",
    "    xC, yC=C\n",
    "    A=(xC-R, yC-R)\n",
    "    B=(xC+R, yC+R)\n",
    "    return cnv.create_oval(A,B, fill=color, outline=color)\n",
    "\n",
    "\n",
    "root=Tk()\n",
    "cnv=Canvas(root, width=WIDTH, height=HEIGHT, background='blue')\n",
    "cnv.pack()\n",
    "\n",
    "\n",
    "C=(50,50)\n",
    "\n",
    "for j in range (0,7):\n",
    "    n=50+(j-1)*110\n",
    "    for i in range (0,8):\n",
    "        dot (cnv, C, R=50 , color=\"white\")\n",
    "        C = (50+i*110, n)\n",
    "    C=(50,n)\n",
    "\n",
    "\n",
    "root.mainloop()"
   ]
  },
  {
   "cell_type": "markdown",
   "metadata": {},
   "source": [
    "ex 2\n",
    "----------"
   ]
  },
  {
   "cell_type": "code",
   "execution_count": 82,
   "metadata": {
    "collapsed": false
   },
   "outputs": [],
   "source": [
    "from random import sample\n",
    "from tkinter import Tk, Canvas\n",
    "\n",
    "P=N/(n*n)"
   ]
  },
  {
   "cell_type": "markdown",
   "metadata": {},
   "source": [
    "ex 3\n",
    "------"
   ]
  },
  {
   "cell_type": "code",
   "execution_count": 42,
   "metadata": {
    "collapsed": false
   },
   "outputs": [],
   "source": [
    "from tkinter import *\n",
    "\n",
    "WIDTH=900\n",
    "HEIGHT=700\n",
    "\n",
    "\n",
    "root=Tk()\n",
    "cnv=Canvas(root, width=WIDTH, height=HEIGHT, background='white')\n",
    "cnv.pack()\n",
    "\n",
    "\n",
    "board=[[6, 7, 4, 8],\n",
    "       [5, 15, 13, 2],\n",
    "       [12, 14, 9, 1],\n",
    "       [3, 11, 10,\"\"]]\n",
    "\n",
    "x=0\n",
    "y=0\n",
    "z=100\n",
    "w=100\n",
    " \n",
    "    \n",
    "    \n",
    "    \n",
    "for i in range (0,5):\n",
    "    cnv.create_rectangle(x, y, z, w)\n",
    "    x=x+100\n",
    "\n",
    "    \n",
    "\n",
    "y=200\n",
    "x=0\n",
    "for i in range (0,5):\n",
    "    cnv.create_rectangle(x, y, z, w)\n",
    "    x=x+100\n",
    "    \n",
    "    \n",
    "y=300\n",
    "x=0\n",
    "for i in range (0,5):\n",
    "    cnv.create_rectangle(x, y, z, w)\n",
    "    x=x+100   \n",
    "    \n",
    "    \n",
    "y=400\n",
    "x=0\n",
    "for i in range (0,4):\n",
    "    cnv.create_rectangle(x, y, z, w)\n",
    "    x=x+100\n",
    "    \n",
    "for i in range(4):\n",
    "    for j in range(4):\n",
    "        x, y=100*j, 100*i\n",
    "        A, B, C=(x, y), (x+100, y+100), (x+50, y+50)\n",
    "        nro=board[i][j]\n",
    "        txt=cnv.create_text(C, text=nro, fill=\"black\")\n",
    "\n",
    "root.mainloop()"
   ]
  },
  {
   "cell_type": "markdown",
   "metadata": {},
   "source": [
    "exercice 4\n",
    "--------------"
   ]
  },
  {
   "cell_type": "code",
   "execution_count": 144,
   "metadata": {
    "collapsed": false
   },
   "outputs": [],
   "source": [
    "from tkinter import *\n",
    "\n",
    "SIDE=1000\n",
    "\n",
    "\n",
    "root = Tk()\n",
    "cnv = Canvas(root, width=SIDE, height=SIDE, background=\"ivory\")\n",
    "cnv.pack()\n",
    "\n",
    "\n",
    "def chgt(X,Y, center):\n",
    "    \"\"\"(X, Y): coordonnées dans le repère mathématique habituel\n",
    "    center=(x0,y0) coordonnées dans le repère du\n",
    "    canevas du centre du repère mathématique\n",
    "    habituel renvoie coordonnées (x, y) du canevas\"\"\"\n",
    "\n",
    "    return (X+center[0], -Y+center[1])\n",
    "\n",
    "center=(SIDE//2, SIDE//2)\n",
    "\n",
    "\n",
    "\n",
    "\n",
    "def dot(cnv, C, R=6, color='orangered2'):\n",
    "    xC, yC=C\n",
    "    A=(xC-R, yC-R)\n",
    "    B=(xC+R, yC+R)\n",
    "    return cnv.create_oval(A,B, fill=color, outline=color)\n",
    "\n",
    "PAD=700\n",
    "DIM=700\n",
    "WIDTH=1000\n",
    "HEIGHT=1000\n",
    "\n",
    "\n",
    "C = (WIDTH//2, HEIGHT//2)\n",
    "\n",
    "dot(cnv, C, R=DIM//2, color=\"black\")\n",
    "\n",
    "\n",
    "x=400\n",
    "y=800\n",
    "for i in range (0,7):\n",
    "    dot(cnv, (x,y), R=DIM//40, color=\"orange1\")\n",
    "    y=y-100\n",
    "    \n",
    "x=500 \n",
    "y=800\n",
    "for i in range (0,7):\n",
    "    dot(cnv, (x,y), R=DIM//40, color=\"orange1\")\n",
    "    y=y-100\n",
    "    \n",
    "x=600\n",
    "y=800\n",
    "for i in range (0,7):\n",
    "    dot(cnv, (x,y), R=DIM//40, color=\"orange1\")\n",
    "    y=y-100    \n",
    "\n",
    "x=200\n",
    "y=500\n",
    "for i in range (0,7):\n",
    "    dot(cnv, (x,y), R=DIM//40, color=\"orange1\")\n",
    "    x=x+100\n",
    "    \n",
    "x=200\n",
    "y=400\n",
    "for i in range (0,7):\n",
    "    dot(cnv, (x,y), R=DIM//40, color=\"orange1\")\n",
    "    x=x+100\n",
    "x=200\n",
    "y=600\n",
    "for i in range (0,7):\n",
    "    dot(cnv, (x,y), R=DIM//40, color=\"orange1\")\n",
    "    x=x+100\n",
    "    \n",
    "root.mainloop()"
   ]
  },
  {
   "cell_type": "code",
   "execution_count": 109,
   "metadata": {
    "collapsed": false
   },
   "outputs": [],
   "source": []
  },
  {
   "cell_type": "markdown",
   "metadata": {},
   "source": [
    "exercice 5\n",
    "------------"
   ]
  },
  {
   "cell_type": "code",
   "execution_count": 141,
   "metadata": {
    "collapsed": true
   },
   "outputs": [],
   "source": [
    "from tkinter import *\n",
    "from random import randrange\n",
    "\n",
    "\n",
    "WIDTH=800\n",
    "HEIGHT=600\n",
    "\n",
    "GREEN=\"#10ff00\"\n",
    "GRAY=\"#363636\"\n",
    "\n",
    "\n",
    "def point(A, C, k):\n",
    "    xA, yA=A\n",
    "    xC, yC=C\n",
    "    xAC, yAC=(xC-xA, yC-yA)\n",
    "    AC=(xAC**2+yAC**2)**0.5\n",
    "    xu, yu=(xAC/AC, yAC/AC)\n",
    "    xM=xA+k*xu\n",
    "    yM=yA+k*yu\n",
    "    return (xM, yM)\n",
    "\n",
    "root=Tk()\n",
    "cnv=Canvas(root, width=WIDTH, height=HEIGHT, bg=GRAY)\n",
    "cnv.pack()\n",
    "\n",
    "\n",
    "def dot(cnv, C, R=6, color='red'):\n",
    "    xC, yC=C\n",
    "    A=(xC-R, yC-R)\n",
    "    B=(xC+R, yC+R)\n",
    "    return cnv.create_oval(A,B, fill=color, outline=color)\n",
    "\n",
    "def line(A, C):\n",
    "    B=point(A, C, -L)\n",
    "    D=point(A, C, WIDTH)\n",
    "\n",
    "    cnv.create_line(B,A, width=7, fill=GREEN, arrow='last',\n",
    "                    arrowshape=(18,30, 8))\n",
    "    cnv.create_line(A,D, fill=GREEN, dash=3)\n",
    "\n",
    "\n",
    "L=60\n",
    "\n",
    "C=(randrange(WIDTH), randrange(HEIGHT))\n",
    "\n",
    "for _ in range(4):\n",
    "    A=(randrange(WIDTH), randrange(HEIGHT))\n",
    "    line(A,C)\n",
    "\n",
    "root.mainloop()\n",
    "\n"
   ]
  },
  {
   "cell_type": "markdown",
   "metadata": {},
   "source": [
    "exercice 6\n",
    "------------"
   ]
  },
  {
   "cell_type": "code",
   "execution_count": null,
   "metadata": {
    "collapsed": true
   },
   "outputs": [],
   "source": []
  }
 ],
 "metadata": {
  "kernelspec": {
   "display_name": "Python 3",
   "language": "python",
   "name": "python3"
  },
  "language_info": {
   "codemirror_mode": {
    "name": "ipython",
    "version": 3
   },
   "file_extension": ".py",
   "mimetype": "text/x-python",
   "name": "python",
   "nbconvert_exporter": "python",
   "pygments_lexer": "ipython3",
   "version": "3.5.3"
  }
 },
 "nbformat": 4,
 "nbformat_minor": 2
}
